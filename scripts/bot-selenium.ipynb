{
 "cells": [
  {
   "cell_type": "code",
   "execution_count": 1,
   "metadata": {},
   "outputs": [],
   "source": [
    "from webdriver_manager.chrome import ChromeDriverManager\n",
    "from selenium import webdriver\n",
    "from selenium.webdriver.common.by import By\n",
    "from selenium.webdriver.support.ui import WebDriverWait\n",
    "from selenium.webdriver.support import expected_conditions as EC\n",
    "from selenium.webdriver.chrome.service import Service"
   ]
  },
  {
   "cell_type": "code",
   "execution_count": 2,
   "metadata": {},
   "outputs": [
    {
     "name": "stderr",
     "output_type": "stream",
     "text": [
      "[WDM] - Downloading: 100%|██████████| 6.80M/6.80M [00:00<00:00, 11.0MB/s]\n"
     ]
    }
   ],
   "source": [
    "#Abrindo navegador\n",
    "navegador = webdriver.Chrome(service=Service(ChromeDriverManager().install()))"
   ]
  },
  {
   "cell_type": "code",
   "execution_count": 3,
   "metadata": {},
   "outputs": [],
   "source": [
    "#Acessando site\n",
    "navegador.get('http://www.ssp.sp.gov.br/transparenciassp/')"
   ]
  },
  {
   "cell_type": "code",
   "execution_count": 4,
   "metadata": {},
   "outputs": [],
   "source": [
    "# Selecionando ROUBO DE CELULAR\n",
    "navegador.find_element(By.XPATH, '//*[@id=\"cphBody_btnRouboCelular\"]').click() "
   ]
  },
  {
   "cell_type": "code",
   "execution_count": 5,
   "metadata": {},
   "outputs": [],
   "source": [
    "#Filtrando departamento\n",
    "navegador.find_element(By.XPATH, '//*[@id=\"cphBody_filtroDepartamento\"]/option[4]').click() "
   ]
  },
  {
   "cell_type": "code",
   "execution_count": 7,
   "metadata": {},
   "outputs": [],
   "source": [
    "#Selecionando ano\n",
    "navegador.find_element(By.XPATH, '//*[@id=\"cphBody_lkAno22\"]').click() "
   ]
  },
  {
   "cell_type": "code",
   "execution_count": 8,
   "metadata": {},
   "outputs": [],
   "source": [
    "#Selecionando mês de Janeiro\n",
    "navegador.find_element(By.XPATH, '//*[@id=\"cphBody_lkMes1\"]').click() "
   ]
  },
  {
   "cell_type": "code",
   "execution_count": 9,
   "metadata": {},
   "outputs": [],
   "source": [
    "#Exportando arquivo\n",
    "navegador.find_element(By.XPATH, '//*[@id=\"cphBody_ExportarBOLink\"]').click() "
   ]
  },
  {
   "cell_type": "code",
   "execution_count": 10,
   "metadata": {},
   "outputs": [],
   "source": [
    "#Selecionando mês de Fevereiro\n",
    "navegador.find_element(By.XPATH, '//*[@id=\"cphBody_lkMes2\"]').click() "
   ]
  },
  {
   "cell_type": "code",
   "execution_count": 11,
   "metadata": {},
   "outputs": [],
   "source": [
    "#Exportando arquivo\n",
    "navegador.find_element(By.XPATH, '//*[@id=\"cphBody_ExportarBOLink\"]').click() "
   ]
  },
  {
   "cell_type": "code",
   "execution_count": 12,
   "metadata": {},
   "outputs": [],
   "source": [
    "#Selecionando mês de Março\n",
    "navegador.find_element(By.XPATH, '//*[@id=\"cphBody_lkMes3\"]').click() "
   ]
  },
  {
   "cell_type": "code",
   "execution_count": 13,
   "metadata": {},
   "outputs": [],
   "source": [
    "#Exportando arquivo\n",
    "navegador.find_element(By.XPATH, '//*[@id=\"cphBody_ExportarBOLink\"]').click() "
   ]
  }
 ],
 "metadata": {
  "kernelspec": {
   "display_name": "Python 3",
   "language": "python",
   "name": "python3"
  },
  "language_info": {
   "codemirror_mode": {
    "name": "ipython",
    "version": 3
   },
   "file_extension": ".py",
   "mimetype": "text/x-python",
   "name": "python",
   "nbconvert_exporter": "python",
   "pygments_lexer": "ipython3",
   "version": "3.10.11"
  },
  "orig_nbformat": 4
 },
 "nbformat": 4,
 "nbformat_minor": 2
}
